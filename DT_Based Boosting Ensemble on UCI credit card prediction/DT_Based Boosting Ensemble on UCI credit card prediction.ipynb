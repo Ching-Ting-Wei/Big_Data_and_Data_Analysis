{
 "cells": [
  {
   "cell_type": "code",
   "execution_count": 1,
   "metadata": {},
   "outputs": [],
   "source": [
    "from numpy import mean\n",
    "from numpy import std\n",
    "import pandas as pd\n",
    "import numpy as py\n",
    "from sklearn.model_selection import cross_val_score\n",
    "from sklearn.ensemble import AdaBoostClassifier\n",
    "from sklearn import metrics"
   ]
  },
  {
   "cell_type": "code",
   "execution_count": 2,
   "metadata": {},
   "outputs": [],
   "source": [
    "datasets = pd.read_csv('UCI_Credit_Card.csv')\n",
    "\n",
    "CurrentCustomers = datasets.head(25000)\n",
    "NewCustomers = datasets.tail(5000)"
   ]
  },
  {
   "cell_type": "code",
   "execution_count": 3,
   "metadata": {},
   "outputs": [
    {
     "data": {
      "text/plain": [
       "(5000, 25)"
      ]
     },
     "execution_count": 3,
     "metadata": {},
     "output_type": "execute_result"
    }
   ],
   "source": [
    "NewCustomers.shape"
   ]
  },
  {
   "cell_type": "code",
   "execution_count": 4,
   "metadata": {},
   "outputs": [],
   "source": [
    "attributes = CurrentCustomers.drop('default.payment.next.month', axis=1)\n",
    "label = CurrentCustomers['default.payment.next.month']\n"
   ]
  },
  {
   "cell_type": "code",
   "execution_count": 5,
   "metadata": {},
   "outputs": [
    {
     "name": "stdout",
     "output_type": "stream",
     "text": [
      "AdaBoostClassifier(n_estimators=200)\n"
     ]
    }
   ],
   "source": [
    "Boosting_model = AdaBoostClassifier(base_estimator=None, n_estimators=200)\n",
    "print(Boosting_model)\n"
   ]
  },
  {
   "cell_type": "code",
   "execution_count": 6,
   "metadata": {},
   "outputs": [
    {
     "name": "stdout",
     "output_type": "stream",
     "text": [
      "F-Score: 0.595 (0.088)\n"
     ]
    }
   ],
   "source": [
    "n_scores = cross_val_score(Boosting_model, attributes,\n",
    "                           label, scoring='f1_macro', cv=10, n_jobs=-1)\n",
    "print('F-Score: %.3f (%.3f)' % (mean(n_scores), std(n_scores)))\n"
   ]
  },
  {
   "cell_type": "code",
   "execution_count": 7,
   "metadata": {},
   "outputs": [],
   "source": [
    "learned_model = Boosting_model.fit(attributes, label)\n"
   ]
  },
  {
   "cell_type": "code",
   "execution_count": 8,
   "metadata": {},
   "outputs": [],
   "source": [
    "test_attributes = NewCustomers.drop('default.payment.next.month', axis=1)\n",
    "test_label = NewCustomers['default.payment.next.month']\n",
    "\n",
    "y_prediction = learned_model.predict(test_attributes)\n"
   ]
  },
  {
   "cell_type": "code",
   "execution_count": 9,
   "metadata": {},
   "outputs": [
    {
     "name": "stdout",
     "output_type": "stream",
     "text": [
      "[[3281  661]\n",
      " [ 420  638]]\n",
      "              precision    recall  f1-score   support\n",
      "\n",
      "           0       0.89      0.83      0.86      3942\n",
      "           1       0.49      0.60      0.54      1058\n",
      "\n",
      "    accuracy                           0.78      5000\n",
      "   macro avg       0.69      0.72      0.70      5000\n",
      "weighted avg       0.80      0.78      0.79      5000\n",
      "\n"
     ]
    }
   ],
   "source": [
    "from sklearn.metrics import classification_report, confusion_matrix\n",
    "print(confusion_matrix(test_label, y_prediction))\n",
    "print(classification_report(test_label, y_prediction))"
   ]
  },
  {
   "cell_type": "code",
   "execution_count": 10,
   "metadata": {},
   "outputs": [],
   "source": [
    "Prediction_result = pd.DataFrame(test_attributes)\n",
    "Prediction_result[\"Prediction_Result\"] = y_prediction\n",
    "\n",
    "Prediction_result.to_csv(\n",
    "    'prediction_Result_Boosting_Ensemble.csv', mode='a', header=True)"
   ]
  }
 ],
 "metadata": {
  "interpreter": {
   "hash": "aee8b7b246df8f9039afb4144a1f6fd8d2ca17a180786b69acc140d282b71a49"
  },
  "kernelspec": {
   "display_name": "Python 3.9.6 64-bit",
   "language": "python",
   "name": "python3"
  },
  "language_info": {
   "codemirror_mode": {
    "name": "ipython",
    "version": 3
   },
   "file_extension": ".py",
   "mimetype": "text/x-python",
   "name": "python",
   "nbconvert_exporter": "python",
   "pygments_lexer": "ipython3",
   "version": "3.9.6"
  },
  "orig_nbformat": 4
 },
 "nbformat": 4,
 "nbformat_minor": 2
}
