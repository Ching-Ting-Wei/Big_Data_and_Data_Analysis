{
 "cells": [
  {
   "cell_type": "code",
   "execution_count": 1,
   "metadata": {},
   "outputs": [],
   "source": [
    "import pandas as pd\n",
    "\n",
    "from sklearn import svm\n",
    "from sklearn.svm import SVC"
   ]
  },
  {
   "cell_type": "code",
   "execution_count": 2,
   "metadata": {},
   "outputs": [],
   "source": [
    "datasets = pd.read_csv('2308_TrainingData.csv')"
   ]
  },
  {
   "cell_type": "code",
   "execution_count": 3,
   "metadata": {},
   "outputs": [],
   "source": [
    "Olddata = datasets.head(2000)\n",
    "Newdata = datasets.tail(634)"
   ]
  },
  {
   "cell_type": "code",
   "execution_count": 4,
   "metadata": {},
   "outputs": [],
   "source": [
    "attributes = Olddata.drop('StockclusterLabel', axis=1)\n",
    "label = Olddata['StockclusterLabel']"
   ]
  },
  {
   "cell_type": "code",
   "execution_count": 5,
   "metadata": {},
   "outputs": [],
   "source": [
    "from sklearn.model_selection import cross_val_score\n",
    "clf = SVC(kernel='linear', C=1.0)"
   ]
  },
  {
   "cell_type": "code",
   "execution_count": 6,
   "metadata": {},
   "outputs": [
    {
     "name": "stdout",
     "output_type": "stream",
     "text": [
      "[0.965 0.955 0.985 0.955 0.97  0.975 0.965 0.97  0.96  0.95 ]\n"
     ]
    }
   ],
   "source": [
    "scores = cross_val_score(clf, attributes, label, cv=10, n_jobs=6)\n",
    "print(scores)"
   ]
  },
  {
   "cell_type": "code",
   "execution_count": 7,
   "metadata": {},
   "outputs": [
    {
     "name": "stdout",
     "output_type": "stream",
     "text": [
      "Accuracy: 0.96 (+/- 0.02)\n"
     ]
    }
   ],
   "source": [
    "print(\"Accuracy: %0.2f (+/- %0.2f)\" % (scores.mean(), scores.std()*2))"
   ]
  },
  {
   "cell_type": "code",
   "execution_count": 8,
   "metadata": {},
   "outputs": [
    {
     "name": "stdout",
     "output_type": "stream",
     "text": [
      "[0.96479696 0.95369571 0.98486925 0.95456842 0.96974044 0.97506267\n",
      " 0.96496053 0.97006808 0.95877872 0.94817499]\n"
     ]
    }
   ],
   "source": [
    "from sklearn import metrics\n",
    "\n",
    "scores = cross_val_score(clf, attributes, label, cv=10,\n",
    "                         scoring='f1_macro', n_jobs=8)\n",
    "print(scores)"
   ]
  },
  {
   "cell_type": "code",
   "execution_count": 9,
   "metadata": {},
   "outputs": [
    {
     "name": "stdout",
     "output_type": "stream",
     "text": [
      "Accuracy: 0.96 (+/- 0.02)\n"
     ]
    }
   ],
   "source": [
    "print(\"Accuracy: %0.2f (+/- %0.2f)\" % (scores.mean(), scores.std()*2))"
   ]
  },
  {
   "cell_type": "code",
   "execution_count": 10,
   "metadata": {},
   "outputs": [],
   "source": [
    "train_attributes = Olddata.drop('StockclusterLabel', axis=1)\n",
    "train_label = Olddata['StockclusterLabel']\n",
    "\n",
    "SVMclassfier = SVC(kernel='linear', C=1.0, random_state=1)\n",
    "SVMclassfier.fit(train_attributes, train_label)\n",
    "\n",
    "test_attributes = Newdata.drop('StockclusterLabel', axis=1)\n",
    "test_label = Newdata['StockclusterLabel']\n",
    "\n",
    "y_prediction = SVMclassfier.predict(test_attributes)"
   ]
  },
  {
   "cell_type": "code",
   "execution_count": 11,
   "metadata": {},
   "outputs": [
    {
     "name": "stdout",
     "output_type": "stream",
     "text": [
      "[[132  13   0]\n",
      " [  7 289   1]\n",
      " [  0   3 189]]\n",
      "              precision    recall  f1-score   support\n",
      "\n",
      "         BUY       0.95      0.91      0.93       145\n",
      "        FLAT       0.95      0.97      0.96       297\n",
      "        SELL       0.99      0.98      0.99       192\n",
      "\n",
      "    accuracy                           0.96       634\n",
      "   macro avg       0.96      0.96      0.96       634\n",
      "weighted avg       0.96      0.96      0.96       634\n",
      "\n"
     ]
    }
   ],
   "source": [
    "from sklearn.metrics import classification_report, confusion_matrix\n",
    "print(confusion_matrix(test_label, y_prediction))\n",
    "print(classification_report(test_label, y_prediction))"
   ]
  },
  {
   "cell_type": "code",
   "execution_count": 12,
   "metadata": {},
   "outputs": [],
   "source": [
    "prediction = pd.DataFrame(test_attributes)\n",
    "prediction[\"Prediciton_Result\"] = y_prediction\n",
    "\n",
    "prediction.to_csv('Prediction_Result.csv', mode='a', header=True)"
   ]
  }
 ],
 "metadata": {
  "interpreter": {
   "hash": "aee8b7b246df8f9039afb4144a1f6fd8d2ca17a180786b69acc140d282b71a49"
  },
  "kernelspec": {
   "display_name": "Python 3.9.6 64-bit",
   "language": "python",
   "name": "python3"
  },
  "language_info": {
   "codemirror_mode": {
    "name": "ipython",
    "version": 3
   },
   "file_extension": ".py",
   "mimetype": "text/x-python",
   "name": "python",
   "nbconvert_exporter": "python",
   "pygments_lexer": "ipython3",
   "version": "3.9.6"
  },
  "orig_nbformat": 4
 },
 "nbformat": 4,
 "nbformat_minor": 2
}
