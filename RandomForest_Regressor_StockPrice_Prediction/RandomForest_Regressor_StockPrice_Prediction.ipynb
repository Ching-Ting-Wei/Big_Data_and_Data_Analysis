{
 "cells": [
  {
   "cell_type": "code",
   "execution_count": 1,
   "metadata": {},
   "outputs": [],
   "source": [
    "from numpy import mean\n",
    "from numpy import std\n",
    "import pandas as pd\n",
    "import numpy as np\n",
    "from sklearn.model_selection import cross_val_score\n",
    "from sklearn.ensemble import RandomForestRegressor\n",
    "from sklearn import metrics\n"
   ]
  },
  {
   "cell_type": "code",
   "execution_count": 2,
   "metadata": {},
   "outputs": [],
   "source": [
    "datasets = pd.read_csv('2308_TrainingData.csv', encoding='unicode_escape')\n",
    "\n",
    "HistoricalPrice = datasets.tail(2600)\n",
    "NewPrice = datasets.head(32)\n"
   ]
  },
  {
   "cell_type": "code",
   "execution_count": 6,
   "metadata": {},
   "outputs": [],
   "source": [
    "attributes = HistoricalPrice.drop('StockclusterLabel', axis=1)\n",
    "attributes = attributes.drop('X10', axis=1)\n",
    "label = HistoricalPrice['X10']\n",
    "\n"
   ]
  },
  {
   "cell_type": "code",
   "execution_count": 7,
   "metadata": {},
   "outputs": [],
   "source": [
    "RFregressor = RandomForestRegressor(\n",
    "    n_estimators=501, criterion='squared_error', n_jobs=-1)\n"
   ]
  },
  {
   "cell_type": "code",
   "execution_count": 8,
   "metadata": {},
   "outputs": [
    {
     "name": "stdout",
     "output_type": "stream",
     "text": [
      "F-Score: -1483.022 (1059.435)\n"
     ]
    }
   ],
   "source": [
    "n_scores = cross_val_score(RFregressor, attributes,\n",
    "                           label, scoring='neg_mean_squared_error', cv=10, n_jobs=-1)\n",
    "\n",
    "print('F-Score: %.3f (%.3f)' % (mean(n_scores), std(n_scores)))\n"
   ]
  },
  {
   "cell_type": "code",
   "execution_count": 9,
   "metadata": {},
   "outputs": [],
   "source": [
    "learned_model = RFregressor.fit(attributes,label)\n",
    "\n",
    "test_attributes = NewPrice.drop('X10',axis=1)\n",
    "test_attributes = test_attributes.drop('StockclusterLabel',axis=1)\n",
    "test_label = NewPrice['X10']\n",
    "\n",
    "y_prediction=learned_model.predict(test_attributes)"
   ]
  },
  {
   "cell_type": "code",
   "execution_count": 10,
   "metadata": {},
   "outputs": [
    {
     "name": "stdout",
     "output_type": "stream",
     "text": [
      "Mean Absolute Error: 83.40395157185631\n",
      "Mean Squared Error: 7056.154222295956\n",
      "Root Mean Squared Error: 84.00091798484084\n"
     ]
    }
   ],
   "source": [
    "print('Mean Absolute Error:', metrics.mean_absolute_error(test_label, y_prediction))\n",
    "print('Mean Squared Error:', metrics.mean_squared_error(test_label, y_prediction))\n",
    "print('Root Mean Squared Error:', np.sqrt(\n",
    "    metrics.mean_squared_error(test_label, y_prediction)))\n"
   ]
  },
  {
   "cell_type": "code",
   "execution_count": null,
   "metadata": {},
   "outputs": [],
   "source": [
    "Prediction_result = pd.DataFrame(NewPrice)\n",
    "Prediction_result['Prediction_Result'] = y_prediction\n",
    "\n",
    "Prediction_result.to_csv(\n",
    "    'Stock_Price_Prediction_RF.csv', mode='a', header=True)\n"
   ]
  }
 ],
 "metadata": {
  "interpreter": {
   "hash": "aee8b7b246df8f9039afb4144a1f6fd8d2ca17a180786b69acc140d282b71a49"
  },
  "kernelspec": {
   "display_name": "Python 3.9.6 64-bit",
   "language": "python",
   "name": "python3"
  },
  "language_info": {
   "codemirror_mode": {
    "name": "ipython",
    "version": 3
   },
   "file_extension": ".py",
   "mimetype": "text/x-python",
   "name": "python",
   "nbconvert_exporter": "python",
   "pygments_lexer": "ipython3",
   "version": "3.9.6"
  },
  "orig_nbformat": 4
 },
 "nbformat": 4,
 "nbformat_minor": 2
}
