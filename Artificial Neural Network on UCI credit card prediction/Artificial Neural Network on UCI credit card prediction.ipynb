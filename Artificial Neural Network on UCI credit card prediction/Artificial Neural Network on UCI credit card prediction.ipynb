{
 "cells": [
  {
   "cell_type": "code",
   "execution_count": 20,
   "metadata": {},
   "outputs": [],
   "source": [
    "import pandas as pd\n",
    "\n",
    "# read csv file and put csv data in datasets\n",
    "datasets = pd.read_csv('UCI_Credit_Card.csv')\n",
    "\n",
    "CurrentCustomers = datasets.head(25000)\n",
    "NewCustomers = datasets.tail(5000)"
   ]
  },
  {
   "cell_type": "code",
   "execution_count": 21,
   "metadata": {},
   "outputs": [
    {
     "data": {
      "text/plain": [
       "(25000, 25)"
      ]
     },
     "execution_count": 21,
     "metadata": {},
     "output_type": "execute_result"
    }
   ],
   "source": [
    "CurrentCustomers.shape"
   ]
  },
  {
   "cell_type": "code",
   "execution_count": 22,
   "metadata": {},
   "outputs": [],
   "source": [
    "# set up features and labels\n",
    "\n",
    "attributes = CurrentCustomers.drop('default.payment.next.month', axis=1)\n",
    "label = CurrentCustomers['default.payment.next.month']"
   ]
  },
  {
   "cell_type": "code",
   "execution_count": 23,
   "metadata": {},
   "outputs": [],
   "source": [
    "#Train and Test set Split\n",
    "from sklearn.model_selection import train_test_split\n",
    "\n",
    "attributes_train,attributes_test,label_train,label_test=train_test_split(attributes,label)"
   ]
  },
  {
   "cell_type": "code",
   "execution_count": 24,
   "metadata": {},
   "outputs": [
    {
     "data": {
      "text/plain": [
       "StandardScaler()"
      ]
     },
     "execution_count": 24,
     "metadata": {},
     "output_type": "execute_result"
    }
   ],
   "source": [
    "# Data preprocessing\n",
    "\n",
    "from sklearn.preprocessing import StandardScaler\n",
    "scaler = StandardScaler()\n",
    "\n",
    "# Fit onlt to the training data\n",
    "scaler.fit(attributes_train)"
   ]
  },
  {
   "cell_type": "code",
   "execution_count": 25,
   "metadata": {},
   "outputs": [],
   "source": [
    "# Now apply the transformations to the data:\n",
    "Normalized_attributes_train = scaler.transform(attributes_train)\n",
    "Normalized_attributes_test = scaler.transform(attributes_test)\n"
   ]
  },
  {
   "cell_type": "code",
   "execution_count": 26,
   "metadata": {},
   "outputs": [
    {
     "data": {
      "text/plain": [
       "MLPClassifier(hidden_layer_sizes=13, max_iter=1500)"
      ]
     },
     "execution_count": 26,
     "metadata": {},
     "output_type": "execute_result"
    }
   ],
   "source": [
    "# Training the model\n",
    "\n",
    "from sklearn.neural_network import MLPClassifier\n",
    "mlp = MLPClassifier(hidden_layer_sizes=(13), max_iter=1500)\n",
    "mlp.fit(Normalized_attributes_train, label_train)\n"
   ]
  },
  {
   "cell_type": "code",
   "execution_count": 27,
   "metadata": {},
   "outputs": [
    {
     "name": "stdout",
     "output_type": "stream",
     "text": [
      "[[4578  245]\n",
      " [ 891  536]]\n",
      "              precision    recall  f1-score   support\n",
      "\n",
      "           0       0.84      0.95      0.89      4823\n",
      "           1       0.69      0.38      0.49      1427\n",
      "\n",
      "    accuracy                           0.82      6250\n",
      "   macro avg       0.76      0.66      0.69      6250\n",
      "weighted avg       0.80      0.82      0.80      6250\n",
      "\n"
     ]
    }
   ],
   "source": [
    "# Predictions and Evaluation\n",
    "from sklearn.metrics import classification_report, confusion_matrix\n",
    "predictions = mlp.predict(Normalized_attributes_test)\n",
    "\n",
    "print(confusion_matrix(label_test, predictions))\n",
    "print(classification_report(label_test, predictions))\n"
   ]
  },
  {
   "cell_type": "code",
   "execution_count": 28,
   "metadata": {},
   "outputs": [],
   "source": [
    "# Predicting NewCustomers\n",
    "prediction_New = mlp.predict(Normalized_attributes_test)\n",
    "\n",
    "prediction = pd.DataFrame(attributes_test)\n",
    "prediction[\"Prediction_Result\"] = prediction_New\n",
    "\n",
    "prediction.to_csv('Prediction_Result.csv', mode='a', header=True)\n"
   ]
  }
 ],
 "metadata": {
  "interpreter": {
   "hash": "aee8b7b246df8f9039afb4144a1f6fd8d2ca17a180786b69acc140d282b71a49"
  },
  "kernelspec": {
   "display_name": "Python 3.9.6 64-bit",
   "language": "python",
   "name": "python3"
  },
  "language_info": {
   "codemirror_mode": {
    "name": "ipython",
    "version": 3
   },
   "file_extension": ".py",
   "mimetype": "text/x-python",
   "name": "python",
   "nbconvert_exporter": "python",
   "pygments_lexer": "ipython3",
   "version": "3.9.6"
  },
  "orig_nbformat": 4
 },
 "nbformat": 4,
 "nbformat_minor": 2
}
