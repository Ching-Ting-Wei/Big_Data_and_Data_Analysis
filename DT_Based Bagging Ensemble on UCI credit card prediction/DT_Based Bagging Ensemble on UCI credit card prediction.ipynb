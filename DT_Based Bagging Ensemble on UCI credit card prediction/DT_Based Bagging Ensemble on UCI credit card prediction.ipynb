{
 "cells": [
  {
   "cell_type": "code",
   "execution_count": 1,
   "metadata": {},
   "outputs": [],
   "source": [
    "from numpy import mean\n",
    "from numpy import std\n",
    "import pandas as pd\n",
    "from sklearn.model_selection import cross_val_score\n",
    "from sklearn.ensemble import BaggingClassifier"
   ]
  },
  {
   "cell_type": "code",
   "execution_count": 2,
   "metadata": {},
   "outputs": [],
   "source": [
    "datasets = pd.read_csv('UCI_Credit_Card.csv')\n",
    "\n",
    "CurrentCustomers = datasets.head(25000)\n",
    "NewCustomers = datasets.tail(5000)"
   ]
  },
  {
   "cell_type": "code",
   "execution_count": 3,
   "metadata": {},
   "outputs": [
    {
     "data": {
      "text/plain": [
       "(5000, 25)"
      ]
     },
     "execution_count": 3,
     "metadata": {},
     "output_type": "execute_result"
    }
   ],
   "source": [
    "NewCustomers.shape"
   ]
  },
  {
   "cell_type": "code",
   "execution_count": 4,
   "metadata": {},
   "outputs": [],
   "source": [
    "# set up features and labels\n",
    "\n",
    "attributes = CurrentCustomers.drop('default.payment.next.month', axis=1)\n",
    "label = CurrentCustomers['default.payment.next.month']"
   ]
  },
  {
   "cell_type": "code",
   "execution_count": 5,
   "metadata": {},
   "outputs": [
    {
     "name": "stdout",
     "output_type": "stream",
     "text": [
      "BaggingClassifier(n_estimators=499, n_jobs=-1)\n"
     ]
    }
   ],
   "source": [
    "model = BaggingClassifier(base_estimator=None, n_estimators=499, n_jobs=-1)\n",
    "print(model)\n"
   ]
  },
  {
   "cell_type": "code",
   "execution_count": 6,
   "metadata": {},
   "outputs": [
    {
     "name": "stdout",
     "output_type": "stream",
     "text": [
      "[0.65364367 0.65426812 0.69038984 0.67374031 0.6503408  0.68109804\n",
      " 0.71209428 0.73536431 0.69371142 0.46951338]\n",
      "F-Score: 0.661 (0.069)\n"
     ]
    }
   ],
   "source": [
    "n_scores = cross_val_score(model, attributes, label,\n",
    "                           scoring='f1_macro', cv=10, n_jobs=-1, error_score='raise')\n",
    "print(n_scores)\n",
    "print('F-Score: %.3f (%.3f)' % (mean(n_scores), std(n_scores)))\n"
   ]
  },
  {
   "cell_type": "code",
   "execution_count": 8,
   "metadata": {},
   "outputs": [],
   "source": [
    "learned_model = model.fit(attributes, label)\n"
   ]
  },
  {
   "cell_type": "code",
   "execution_count": 10,
   "metadata": {},
   "outputs": [],
   "source": [
    "test_attributes = NewCustomers.drop('default.payment.next.month', axis=1)\n",
    "test_label = NewCustomers['default.payment.next.month']\n",
    "\n",
    "y_prediction = learned_model.predict(test_attributes)\n"
   ]
  },
  {
   "cell_type": "code",
   "execution_count": 11,
   "metadata": {},
   "outputs": [
    {
     "name": "stdout",
     "output_type": "stream",
     "text": [
      "[[3653  289]\n",
      " [ 638  420]]\n",
      "              precision    recall  f1-score   support\n",
      "\n",
      "           0       0.85      0.93      0.89      3942\n",
      "           1       0.59      0.40      0.48      1058\n",
      "\n",
      "    accuracy                           0.81      5000\n",
      "   macro avg       0.72      0.66      0.68      5000\n",
      "weighted avg       0.80      0.81      0.80      5000\n",
      "\n"
     ]
    }
   ],
   "source": [
    "from sklearn.metrics import classification_report, confusion_matrix\n",
    "print(confusion_matrix(test_label, y_prediction))\n",
    "print(classification_report(test_label, y_prediction))\n"
   ]
  },
  {
   "cell_type": "code",
   "execution_count": null,
   "metadata": {},
   "outputs": [],
   "source": [
    "Prediction_result = pd.DataFrame(test_attributes)\n",
    "Prediction_result[\"Prediction_Result\"] = y_prediction\n",
    "\n",
    "Prediction_result.to_csv(\n",
    "    'prediction_Result_Bagging_Ensemble.csv', mode='a', header=True)\n"
   ]
  }
 ],
 "metadata": {
  "interpreter": {
   "hash": "aee8b7b246df8f9039afb4144a1f6fd8d2ca17a180786b69acc140d282b71a49"
  },
  "kernelspec": {
   "display_name": "Python 3.9.6 64-bit",
   "language": "python",
   "name": "python3"
  },
  "language_info": {
   "codemirror_mode": {
    "name": "ipython",
    "version": 3
   },
   "file_extension": ".py",
   "mimetype": "text/x-python",
   "name": "python",
   "nbconvert_exporter": "python",
   "pygments_lexer": "ipython3",
   "version": "3.9.6"
  },
  "orig_nbformat": 4
 },
 "nbformat": 4,
 "nbformat_minor": 2
}
