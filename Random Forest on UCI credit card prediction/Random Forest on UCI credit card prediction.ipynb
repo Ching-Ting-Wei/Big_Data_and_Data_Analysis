{
 "cells": [
  {
   "cell_type": "code",
   "execution_count": 1,
   "metadata": {},
   "outputs": [],
   "source": [
    "from numpy import mean\n",
    "from numpy import std\n",
    "import pandas as pd\n",
    "import numpy as np\n",
    "from sklearn.model_selection import cross_val_score\n",
    "from sklearn.ensemble import RandomForestClassifier\n",
    "from sklearn import metrics\n"
   ]
  },
  {
   "cell_type": "code",
   "execution_count": 2,
   "metadata": {},
   "outputs": [
    {
     "data": {
      "text/plain": [
       "(5000, 25)"
      ]
     },
     "execution_count": 2,
     "metadata": {},
     "output_type": "execute_result"
    }
   ],
   "source": [
    "datasets = pd.read_csv('UCI_Credit_Card.csv')\n",
    "\n",
    "CurrentCustomers = datasets.head(25000)\n",
    "NewCustomers = datasets.tail(5000)\n",
    "\n",
    "NewCustomers.shape\n"
   ]
  },
  {
   "cell_type": "code",
   "execution_count": 3,
   "metadata": {},
   "outputs": [],
   "source": [
    "attributes = CurrentCustomers.drop('default.payment.next.month', axis=1)\n",
    "label = CurrentCustomers['default.payment.next.month']"
   ]
  },
  {
   "cell_type": "code",
   "execution_count": 4,
   "metadata": {},
   "outputs": [],
   "source": [
    "RFclassifier = RandomForestClassifier(\n",
    "    criterion='gini', n_estimators=499, n_jobs=-1)\n"
   ]
  },
  {
   "cell_type": "code",
   "execution_count": 5,
   "metadata": {},
   "outputs": [
    {
     "name": "stdout",
     "output_type": "stream",
     "text": [
      "F-Score: 0.671 (0.048)\n"
     ]
    }
   ],
   "source": [
    "n_scores = cross_val_score(RFclassifier, attributes,\n",
    "                           label, scoring='f1_macro', cv=10, n_jobs=-1)\n",
    "\n",
    "print('F-Score: %.3f (%.3f)' % (mean(n_scores), std(n_scores)))\n"
   ]
  },
  {
   "cell_type": "code",
   "execution_count": 6,
   "metadata": {},
   "outputs": [],
   "source": [
    "learned_model = RFclassifier.fit(attributes, label)\n",
    "\n",
    "test_attributes = NewCustomers.drop('default.payment.next.month', axis=1)\n",
    "test_label = NewCustomers['default.payment.next.month']\n",
    "\n",
    "y_prediction = learned_model.predict(test_attributes)\n"
   ]
  },
  {
   "cell_type": "code",
   "execution_count": 7,
   "metadata": {},
   "outputs": [
    {
     "name": "stdout",
     "output_type": "stream",
     "text": [
      "[[3731  211]\n",
      " [ 654  404]]\n",
      "              precision    recall  f1-score   support\n",
      "\n",
      "           0       0.85      0.95      0.90      3942\n",
      "           1       0.66      0.38      0.48      1058\n",
      "\n",
      "    accuracy                           0.83      5000\n",
      "   macro avg       0.75      0.66      0.69      5000\n",
      "weighted avg       0.81      0.83      0.81      5000\n",
      "\n"
     ]
    }
   ],
   "source": [
    "from sklearn.metrics import classification_report, confusion_matrix\n",
    "print(confusion_matrix(test_label, y_prediction))\n",
    "print(classification_report(test_label, y_prediction))\n"
   ]
  },
  {
   "cell_type": "code",
   "execution_count": 8,
   "metadata": {},
   "outputs": [],
   "source": [
    "Prediction_result = pd.DataFrame(test_attributes)\n",
    "Prediction_result[\"Prediction_Result\"] = y_prediction\n",
    "\n",
    "Prediction_result.to_csv('Prediction_Result_RF.csv', mode='a', header=True)\n"
   ]
  }
 ],
 "metadata": {
  "interpreter": {
   "hash": "aee8b7b246df8f9039afb4144a1f6fd8d2ca17a180786b69acc140d282b71a49"
  },
  "kernelspec": {
   "display_name": "Python 3.9.6 64-bit",
   "language": "python",
   "name": "python3"
  },
  "language_info": {
   "codemirror_mode": {
    "name": "ipython",
    "version": 3
   },
   "file_extension": ".py",
   "mimetype": "text/x-python",
   "name": "python",
   "nbconvert_exporter": "python",
   "pygments_lexer": "ipython3",
   "version": "3.9.6"
  },
  "orig_nbformat": 4
 },
 "nbformat": 4,
 "nbformat_minor": 2
}
